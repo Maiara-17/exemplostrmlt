{
 "cells": [
  {
   "cell_type": "code",
   "execution_count": 1,
   "metadata": {},
   "outputs": [],
   "source": [
    "import pandas as pd\n",
    "from selenium import webdriver\n",
    "from selenium.webdriver.common.by import By\n",
    "from selenium.webdriver.chrome.service import Service\n",
    "from webdriver_manager.chrome import ChromeDriverManager\n",
    "import time"
   ]
  },
  {
   "cell_type": "code",
   "execution_count": 2,
   "metadata": {},
   "outputs": [],
   "source": [
    "navegador = webdriver.Chrome()"
   ]
  },
  {
   "cell_type": "code",
   "execution_count": 3,
   "metadata": {},
   "outputs": [],
   "source": [
    "navegador.get('https://pt.wikipedia.org/wiki/Lista_de_municípios_da_região_Sudeste_do_Brasil_por_população')"
   ]
  },
  {
   "cell_type": "code",
   "execution_count": 4,
   "metadata": {},
   "outputs": [],
   "source": [
    "time.sleep(5)"
   ]
  },
  {
   "cell_type": "code",
   "execution_count": 5,
   "metadata": {},
   "outputs": [],
   "source": [
    "posicao = navegador.find_element(By.XPATH,'//*[@id=\"mw-content-text\"]/div[1]/table[1]/thead/tr/th[1]/a').text"
   ]
  },
  {
   "cell_type": "code",
   "execution_count": 6,
   "metadata": {},
   "outputs": [],
   "source": [
    "municipio = navegador.find_element(By.XPATH,'//*[@id=\"mw-content-text\"]/div[1]/table[1]/tbody/tr[1]/td[2]').text"
   ]
  },
  {
   "cell_type": "code",
   "execution_count": 7,
   "metadata": {},
   "outputs": [],
   "source": [
    "unidade_federativa = navegador.find_element(By.XPATH,'//*[@id=\"mw-content-text\"]/div[1]/table[1]/tbody/tr[1]/td[3]/a').text"
   ]
  },
  {
   "cell_type": "code",
   "execution_count": 8,
   "metadata": {},
   "outputs": [],
   "source": [
    "populacao = navegador.find_element(By.XPATH,'//*[@id=\"mw-content-text\"]/div[1]/table[1]/tbody/tr[1]/td[4]').text"
   ]
  },
  {
   "cell_type": "code",
   "execution_count": 9,
   "metadata": {},
   "outputs": [
    {
     "name": "stdout",
     "output_type": "stream",
     "text": [
      "Posição\n",
      "São Paulo\n",
      "São Paulo\n",
      "12.106.920\n"
     ]
    }
   ],
   "source": [
    "print(posicao)\n",
    "print(municipio)\n",
    "print(unidade_federativa)\n",
    "print(populacao)"
   ]
  },
  {
   "cell_type": "code",
   "execution_count": 10,
   "metadata": {},
   "outputs": [
    {
     "name": "stdout",
     "output_type": "stream",
     "text": [
      "['1', '2', '3', '4', '5', '6', '7', '8', '9', '10', '11', '12', '13', '14', '15', '16', '17', '18', '19', '20', '21', '22', '23', '24', '25', '26', '27', '28', '29', '30', '31', '32', '33', '34', '35', '36', '37', '38', '39', '40', '41', '42', '43', '44', '45', '46', '47', '48', '49', '50', '51', '52', '53', '54', '55', '56', '57', '58', '59', '60', '61', '62', '63', '64', '65', '66', '67', '68', '69', '70', '71', '72', '73', '74', '75', '76', '77', '78', '79', '80', '81', '82', '83', '84', '85', '86', '87', '88', '89', '90', '91', '92', '93', '94', '95', '96', '97', '98', '99']\n"
     ]
    }
   ],
   "source": [
    "lista_vazia_posicao = []\n",
    "for i in range(1, 100):\n",
    "    posicao = navegador.find_element(By.XPATH, '//*[@id=\"mw-content-text\"]/div[1]/table[1]/tbody/tr['+str(i)+']/td[1]').text\n",
    "    lista_vazia_posicao.append(posicao)\n",
    "print(lista_vazia_posicao)"
   ]
  },
  {
   "cell_type": "code",
   "execution_count": 11,
   "metadata": {},
   "outputs": [],
   "source": [
    "df_posicao= pd.DataFrame(lista_vazia_posicao,columns=['posicao'])"
   ]
  },
  {
   "cell_type": "code",
   "execution_count": 12,
   "metadata": {},
   "outputs": [
    {
     "name": "stdout",
     "output_type": "stream",
     "text": [
      "['São Paulo', 'Rio de Janeiro', 'Belo Horizonte', 'Guarulhos', 'Campinas', 'São Gonçalo', 'Duque de Caxias', 'São Bernardo do Campo', 'Nova Iguaçu', 'Santo André', 'São José dos Campos', 'Osasco', 'Ribeirão Preto', 'Uberlândia', 'Sorocaba', 'Contagem', 'Juiz de Fora', 'Serra', 'Niterói', 'Belford Roxo', 'Campos dos Goytacazes', 'Vila Velha', 'Mauá', 'São João de Meriti', 'São José do Rio Preto', 'Santos', 'Mogi das Cruzes', 'Betim', 'Diadema', 'Jundiaí', 'Montes Claros', 'Piracicaba', 'Carapicuíba', 'Cariacica', 'Bauru', 'Vitória', 'Itaquaquecetuba', 'São Vicente', 'Franca', 'Ribeirão das Neves', 'Uberaba', 'Guarujá', 'Praia Grande', 'Taubaté', 'Limeira', 'Petrópolis', 'Suzano', 'Governador Valadares', 'Taboão da Serra', 'Sumaré', 'Barueri', 'Embu das Artes', 'Volta Redonda', 'Ipatinga', 'São Carlos', 'Macaé', 'Indaiatuba', 'Cotia', 'Magé', 'Sete Lagoas', 'Marília', 'Divinópolis', 'Americana', 'Itaboraí', 'Araraquara', 'Jacareí', 'Itapevi', 'Presidente Prudente', 'Hortolândia', 'Santa Luzia', 'Cabo Frio', 'Cachoeiro de Itapemirim', 'Rio Claro', 'Araçatuba', 'Angra dos Reis', \"Santa Bárbara d'Oeste\", 'Ferraz de Vasconcelos', 'Nova Friburgo', 'Barra Mansa', 'Ibirité', 'Teresópolis', 'Francisco Morato', 'Mesquita', 'Itapecerica da Serra', 'Itu', 'Linhares', 'Poços de Caldas', 'Bragança Paulista', 'Pindamonhangaba', 'Itapetininga', 'São Caetano do Sul', 'Nilópolis', 'Maricá', 'Patos de Minas', 'Franco da Rocha', 'Mogi Guaçu', 'Pouso Alegre', 'Jaú', 'Queimados']\n"
     ]
    }
   ],
   "source": [
    "lista_vazia_municipio = []\n",
    "for i in range(1, 100):\n",
    "    municipio = navegador.find_element(By.XPATH,'//*[@id=\"mw-content-text\"]/div[1]/table[1]/tbody/tr['+str(i)+']/td[2]').text\n",
    "    lista_vazia_municipio.append(municipio)\n",
    "print(lista_vazia_municipio)"
   ]
  },
  {
   "cell_type": "code",
   "execution_count": 13,
   "metadata": {},
   "outputs": [
    {
     "data": {
      "text/html": [
       "<div>\n",
       "<style scoped>\n",
       "    .dataframe tbody tr th:only-of-type {\n",
       "        vertical-align: middle;\n",
       "    }\n",
       "\n",
       "    .dataframe tbody tr th {\n",
       "        vertical-align: top;\n",
       "    }\n",
       "\n",
       "    .dataframe thead th {\n",
       "        text-align: right;\n",
       "    }\n",
       "</style>\n",
       "<table border=\"1\" class=\"dataframe\">\n",
       "  <thead>\n",
       "    <tr style=\"text-align: right;\">\n",
       "      <th></th>\n",
       "      <th>municipio</th>\n",
       "    </tr>\n",
       "  </thead>\n",
       "  <tbody>\n",
       "    <tr>\n",
       "      <th>0</th>\n",
       "      <td>São Paulo</td>\n",
       "    </tr>\n",
       "    <tr>\n",
       "      <th>1</th>\n",
       "      <td>Rio de Janeiro</td>\n",
       "    </tr>\n",
       "    <tr>\n",
       "      <th>2</th>\n",
       "      <td>Belo Horizonte</td>\n",
       "    </tr>\n",
       "    <tr>\n",
       "      <th>3</th>\n",
       "      <td>Guarulhos</td>\n",
       "    </tr>\n",
       "    <tr>\n",
       "      <th>4</th>\n",
       "      <td>Campinas</td>\n",
       "    </tr>\n",
       "    <tr>\n",
       "      <th>...</th>\n",
       "      <td>...</td>\n",
       "    </tr>\n",
       "    <tr>\n",
       "      <th>94</th>\n",
       "      <td>Franco da Rocha</td>\n",
       "    </tr>\n",
       "    <tr>\n",
       "      <th>95</th>\n",
       "      <td>Mogi Guaçu</td>\n",
       "    </tr>\n",
       "    <tr>\n",
       "      <th>96</th>\n",
       "      <td>Pouso Alegre</td>\n",
       "    </tr>\n",
       "    <tr>\n",
       "      <th>97</th>\n",
       "      <td>Jaú</td>\n",
       "    </tr>\n",
       "    <tr>\n",
       "      <th>98</th>\n",
       "      <td>Queimados</td>\n",
       "    </tr>\n",
       "  </tbody>\n",
       "</table>\n",
       "<p>99 rows × 1 columns</p>\n",
       "</div>"
      ],
      "text/plain": [
       "          municipio\n",
       "0         São Paulo\n",
       "1    Rio de Janeiro\n",
       "2    Belo Horizonte\n",
       "3         Guarulhos\n",
       "4          Campinas\n",
       "..              ...\n",
       "94  Franco da Rocha\n",
       "95       Mogi Guaçu\n",
       "96     Pouso Alegre\n",
       "97              Jaú\n",
       "98        Queimados\n",
       "\n",
       "[99 rows x 1 columns]"
      ]
     },
     "execution_count": 13,
     "metadata": {},
     "output_type": "execute_result"
    }
   ],
   "source": [
    "df_municipio = pd.DataFrame(lista_vazia_municipio,columns=['municipio'])\n",
    "df_municipio "
   ]
  },
  {
   "cell_type": "code",
   "execution_count": 14,
   "metadata": {},
   "outputs": [
    {
     "name": "stdout",
     "output_type": "stream",
     "text": [
      "['São Paulo', 'Rio de Janeiro', 'Minas Gerais', 'São Paulo', 'São Paulo', 'Rio de Janeiro', 'Rio de Janeiro', 'São Paulo', 'Rio de Janeiro', 'São Paulo', 'São Paulo', 'São Paulo', 'São Paulo', 'Minas Gerais', 'São Paulo', 'Minas Gerais', 'Minas Gerais', 'Espírito Santo', 'Rio de Janeiro', 'Rio de Janeiro', 'Rio de Janeiro', 'Espírito Santo', 'São Paulo', 'Rio de Janeiro', 'São Paulo', 'São Paulo', 'São Paulo', 'Minas Gerais', 'São Paulo', 'São Paulo', 'Minas Gerais', 'São Paulo', 'São Paulo', 'Espírito Santo', 'São Paulo', 'Espírito Santo', 'São Paulo', 'São Paulo', 'São Paulo', 'Minas Gerais', 'Minas Gerais', 'São Paulo', 'São Paulo', 'São Paulo', 'São Paulo', 'Rio de Janeiro', 'São Paulo', 'Minas Gerais', 'São Paulo', 'São Paulo', 'São Paulo', 'São Paulo', 'Rio de Janeiro', 'Minas Gerais', 'São Paulo', 'Rio de Janeiro', 'São Paulo', 'São Paulo', 'Rio de Janeiro', 'Minas Gerais', 'São Paulo', 'Minas Gerais', 'São Paulo', 'Rio de Janeiro', 'São Paulo', 'São Paulo', 'São Paulo', 'São Paulo', 'São Paulo', 'Minas Gerais', 'Rio de Janeiro', 'Espírito Santo', 'São Paulo', 'São Paulo', 'Rio de Janeiro', 'São Paulo', 'São Paulo', 'Rio de Janeiro', 'Rio de Janeiro', 'Minas Gerais', 'Rio de Janeiro', 'São Paulo', 'Rio de Janeiro', 'São Paulo', 'São Paulo', 'Espírito Santo', 'Minas Gerais', 'São Paulo', 'São Paulo', 'São Paulo', 'São Paulo', 'Rio de Janeiro', 'Rio de Janeiro', 'Minas Gerais', 'São Paulo', 'São Paulo', 'Minas Gerais', 'São Paulo', 'Rio de Janeiro']\n"
     ]
    }
   ],
   "source": [
    "lista_vazia_unidade_federativa = []\n",
    "for i in range(1, 100):\n",
    "    unidade_federativa = navegador.find_element(By.XPATH, '//*[@id=\"mw-content-text\"]/div[1]/table[1]/tbody/tr['+str(i)+']/td[3]/a').text\n",
    "    lista_vazia_unidade_federativa.append(unidade_federativa)\n",
    "print(lista_vazia_unidade_federativa)"
   ]
  },
  {
   "cell_type": "code",
   "execution_count": 15,
   "metadata": {},
   "outputs": [
    {
     "data": {
      "text/html": [
       "<div>\n",
       "<style scoped>\n",
       "    .dataframe tbody tr th:only-of-type {\n",
       "        vertical-align: middle;\n",
       "    }\n",
       "\n",
       "    .dataframe tbody tr th {\n",
       "        vertical-align: top;\n",
       "    }\n",
       "\n",
       "    .dataframe thead th {\n",
       "        text-align: right;\n",
       "    }\n",
       "</style>\n",
       "<table border=\"1\" class=\"dataframe\">\n",
       "  <thead>\n",
       "    <tr style=\"text-align: right;\">\n",
       "      <th></th>\n",
       "      <th>unidade_federativa</th>\n",
       "    </tr>\n",
       "  </thead>\n",
       "  <tbody>\n",
       "    <tr>\n",
       "      <th>0</th>\n",
       "      <td>São Paulo</td>\n",
       "    </tr>\n",
       "    <tr>\n",
       "      <th>1</th>\n",
       "      <td>Rio de Janeiro</td>\n",
       "    </tr>\n",
       "    <tr>\n",
       "      <th>2</th>\n",
       "      <td>Minas Gerais</td>\n",
       "    </tr>\n",
       "    <tr>\n",
       "      <th>3</th>\n",
       "      <td>São Paulo</td>\n",
       "    </tr>\n",
       "    <tr>\n",
       "      <th>4</th>\n",
       "      <td>São Paulo</td>\n",
       "    </tr>\n",
       "    <tr>\n",
       "      <th>...</th>\n",
       "      <td>...</td>\n",
       "    </tr>\n",
       "    <tr>\n",
       "      <th>94</th>\n",
       "      <td>São Paulo</td>\n",
       "    </tr>\n",
       "    <tr>\n",
       "      <th>95</th>\n",
       "      <td>São Paulo</td>\n",
       "    </tr>\n",
       "    <tr>\n",
       "      <th>96</th>\n",
       "      <td>Minas Gerais</td>\n",
       "    </tr>\n",
       "    <tr>\n",
       "      <th>97</th>\n",
       "      <td>São Paulo</td>\n",
       "    </tr>\n",
       "    <tr>\n",
       "      <th>98</th>\n",
       "      <td>Rio de Janeiro</td>\n",
       "    </tr>\n",
       "  </tbody>\n",
       "</table>\n",
       "<p>99 rows × 1 columns</p>\n",
       "</div>"
      ],
      "text/plain": [
       "   unidade_federativa\n",
       "0           São Paulo\n",
       "1      Rio de Janeiro\n",
       "2        Minas Gerais\n",
       "3           São Paulo\n",
       "4           São Paulo\n",
       "..                ...\n",
       "94          São Paulo\n",
       "95          São Paulo\n",
       "96       Minas Gerais\n",
       "97          São Paulo\n",
       "98     Rio de Janeiro\n",
       "\n",
       "[99 rows x 1 columns]"
      ]
     },
     "execution_count": 15,
     "metadata": {},
     "output_type": "execute_result"
    }
   ],
   "source": [
    "df_unidade_federativa = pd.DataFrame(lista_vazia_unidade_federativa,columns=['unidade_federativa'])\n",
    "df_unidade_federativa"
   ]
  },
  {
   "cell_type": "code",
   "execution_count": 16,
   "metadata": {},
   "outputs": [
    {
     "name": "stdout",
     "output_type": "stream",
     "text": [
      "['12.106.920', '6.520.266', '2.523.794', '1.349.113', '1.182.429', '1.049.826', '890.997', '827.437', '798.647', '715.231', '703.219', '697.886', '682.302', '676.613', '659.871', '658.580', '563.769', '502.618', '499.028', '495.783', '490.288', '486.388', '462.005', '460.461', '450.657', '434.742', '433.901', '427.146', '417.869', '409.497', '402.027', '397.322', '396.587', '387.368', '371.690', '363.140', '360.657', '360.380', '347.237', '328.871', '328.272', '315.563', '310.024', '307.953', '300.911', '298.235', '290.769', '280.901', '279.634', '273.007', '267.534', '267.054', '265.201', '261.203', '246.088', '244.139', '239.602', '237.750', '237.420', '236.228', '235.234', '234.937', '233.868', '232.394', '230.770', '229.851', '229.502', '225.271', '222.186', '218.897', '216.030', '211.649', '202.952', '194.874', '194.619', '191.889', '188.868', '185.381', '179.451', '177.475', '176.060', '171.602', '171.280', '170.927', '170.157', '169.048', '166.085', '164.163', '164.000', '160.070', '159.608', '158.329', '153.008', '150.893', '149.502', '149.396', '147.137', '146.338', '145.386']\n"
     ]
    }
   ],
   "source": [
    "lista_vazia_populacao = []\n",
    "for i in range(1, 100):\n",
    "    populacao = navegador.find_element(By.XPATH, '//*[@id=\"mw-content-text\"]/div[1]/table[1]/tbody/tr['+str(i)+']/td[4]').text\n",
    "    lista_vazia_populacao.append(populacao)\n",
    "print(lista_vazia_populacao)"
   ]
  },
  {
   "cell_type": "code",
   "execution_count": 17,
   "metadata": {},
   "outputs": [
    {
     "data": {
      "text/html": [
       "<div>\n",
       "<style scoped>\n",
       "    .dataframe tbody tr th:only-of-type {\n",
       "        vertical-align: middle;\n",
       "    }\n",
       "\n",
       "    .dataframe tbody tr th {\n",
       "        vertical-align: top;\n",
       "    }\n",
       "\n",
       "    .dataframe thead th {\n",
       "        text-align: right;\n",
       "    }\n",
       "</style>\n",
       "<table border=\"1\" class=\"dataframe\">\n",
       "  <thead>\n",
       "    <tr style=\"text-align: right;\">\n",
       "      <th></th>\n",
       "      <th>populacao</th>\n",
       "    </tr>\n",
       "  </thead>\n",
       "  <tbody>\n",
       "    <tr>\n",
       "      <th>0</th>\n",
       "      <td>12.106.920</td>\n",
       "    </tr>\n",
       "    <tr>\n",
       "      <th>1</th>\n",
       "      <td>6.520.266</td>\n",
       "    </tr>\n",
       "    <tr>\n",
       "      <th>2</th>\n",
       "      <td>2.523.794</td>\n",
       "    </tr>\n",
       "    <tr>\n",
       "      <th>3</th>\n",
       "      <td>1.349.113</td>\n",
       "    </tr>\n",
       "    <tr>\n",
       "      <th>4</th>\n",
       "      <td>1.182.429</td>\n",
       "    </tr>\n",
       "    <tr>\n",
       "      <th>...</th>\n",
       "      <td>...</td>\n",
       "    </tr>\n",
       "    <tr>\n",
       "      <th>94</th>\n",
       "      <td>149.502</td>\n",
       "    </tr>\n",
       "    <tr>\n",
       "      <th>95</th>\n",
       "      <td>149.396</td>\n",
       "    </tr>\n",
       "    <tr>\n",
       "      <th>96</th>\n",
       "      <td>147.137</td>\n",
       "    </tr>\n",
       "    <tr>\n",
       "      <th>97</th>\n",
       "      <td>146.338</td>\n",
       "    </tr>\n",
       "    <tr>\n",
       "      <th>98</th>\n",
       "      <td>145.386</td>\n",
       "    </tr>\n",
       "  </tbody>\n",
       "</table>\n",
       "<p>99 rows × 1 columns</p>\n",
       "</div>"
      ],
      "text/plain": [
       "     populacao\n",
       "0   12.106.920\n",
       "1    6.520.266\n",
       "2    2.523.794\n",
       "3    1.349.113\n",
       "4    1.182.429\n",
       "..         ...\n",
       "94     149.502\n",
       "95     149.396\n",
       "96     147.137\n",
       "97     146.338\n",
       "98     145.386\n",
       "\n",
       "[99 rows x 1 columns]"
      ]
     },
     "execution_count": 17,
     "metadata": {},
     "output_type": "execute_result"
    }
   ],
   "source": [
    "df_populacao = pd.DataFrame(lista_vazia_populacao,columns=['populacao'])\n",
    "df_populacao"
   ]
  },
  {
   "cell_type": "code",
   "execution_count": 18,
   "metadata": {},
   "outputs": [
    {
     "data": {
      "text/html": [
       "<div>\n",
       "<style scoped>\n",
       "    .dataframe tbody tr th:only-of-type {\n",
       "        vertical-align: middle;\n",
       "    }\n",
       "\n",
       "    .dataframe tbody tr th {\n",
       "        vertical-align: top;\n",
       "    }\n",
       "\n",
       "    .dataframe thead th {\n",
       "        text-align: right;\n",
       "    }\n",
       "</style>\n",
       "<table border=\"1\" class=\"dataframe\">\n",
       "  <thead>\n",
       "    <tr style=\"text-align: right;\">\n",
       "      <th></th>\n",
       "      <th>posicao</th>\n",
       "      <th>unidade_federativa</th>\n",
       "      <th>municipio</th>\n",
       "      <th>populacao</th>\n",
       "    </tr>\n",
       "  </thead>\n",
       "  <tbody>\n",
       "    <tr>\n",
       "      <th>0</th>\n",
       "      <td>1</td>\n",
       "      <td>São Paulo</td>\n",
       "      <td>São Paulo</td>\n",
       "      <td>12.106.920</td>\n",
       "    </tr>\n",
       "    <tr>\n",
       "      <th>1</th>\n",
       "      <td>2</td>\n",
       "      <td>Rio de Janeiro</td>\n",
       "      <td>Rio de Janeiro</td>\n",
       "      <td>6.520.266</td>\n",
       "    </tr>\n",
       "    <tr>\n",
       "      <th>2</th>\n",
       "      <td>3</td>\n",
       "      <td>Minas Gerais</td>\n",
       "      <td>Belo Horizonte</td>\n",
       "      <td>2.523.794</td>\n",
       "    </tr>\n",
       "    <tr>\n",
       "      <th>3</th>\n",
       "      <td>4</td>\n",
       "      <td>São Paulo</td>\n",
       "      <td>Guarulhos</td>\n",
       "      <td>1.349.113</td>\n",
       "    </tr>\n",
       "    <tr>\n",
       "      <th>4</th>\n",
       "      <td>5</td>\n",
       "      <td>São Paulo</td>\n",
       "      <td>Campinas</td>\n",
       "      <td>1.182.429</td>\n",
       "    </tr>\n",
       "    <tr>\n",
       "      <th>...</th>\n",
       "      <td>...</td>\n",
       "      <td>...</td>\n",
       "      <td>...</td>\n",
       "      <td>...</td>\n",
       "    </tr>\n",
       "    <tr>\n",
       "      <th>94</th>\n",
       "      <td>95</td>\n",
       "      <td>São Paulo</td>\n",
       "      <td>Franco da Rocha</td>\n",
       "      <td>149.502</td>\n",
       "    </tr>\n",
       "    <tr>\n",
       "      <th>95</th>\n",
       "      <td>96</td>\n",
       "      <td>São Paulo</td>\n",
       "      <td>Mogi Guaçu</td>\n",
       "      <td>149.396</td>\n",
       "    </tr>\n",
       "    <tr>\n",
       "      <th>96</th>\n",
       "      <td>97</td>\n",
       "      <td>Minas Gerais</td>\n",
       "      <td>Pouso Alegre</td>\n",
       "      <td>147.137</td>\n",
       "    </tr>\n",
       "    <tr>\n",
       "      <th>97</th>\n",
       "      <td>98</td>\n",
       "      <td>São Paulo</td>\n",
       "      <td>Jaú</td>\n",
       "      <td>146.338</td>\n",
       "    </tr>\n",
       "    <tr>\n",
       "      <th>98</th>\n",
       "      <td>99</td>\n",
       "      <td>Rio de Janeiro</td>\n",
       "      <td>Queimados</td>\n",
       "      <td>145.386</td>\n",
       "    </tr>\n",
       "  </tbody>\n",
       "</table>\n",
       "<p>99 rows × 4 columns</p>\n",
       "</div>"
      ],
      "text/plain": [
       "   posicao unidade_federativa        municipio   populacao\n",
       "0        1          São Paulo        São Paulo  12.106.920\n",
       "1        2     Rio de Janeiro   Rio de Janeiro   6.520.266\n",
       "2        3       Minas Gerais   Belo Horizonte   2.523.794\n",
       "3        4          São Paulo        Guarulhos   1.349.113\n",
       "4        5          São Paulo         Campinas   1.182.429\n",
       "..     ...                ...              ...         ...\n",
       "94      95          São Paulo  Franco da Rocha     149.502\n",
       "95      96          São Paulo       Mogi Guaçu     149.396\n",
       "96      97       Minas Gerais     Pouso Alegre     147.137\n",
       "97      98          São Paulo              Jaú     146.338\n",
       "98      99     Rio de Janeiro        Queimados     145.386\n",
       "\n",
       "[99 rows x 4 columns]"
      ]
     },
     "execution_count": 18,
     "metadata": {},
     "output_type": "execute_result"
    }
   ],
   "source": [
    "df_final = pd.concat([df_posicao, df_unidade_federativa, df_municipio, df_populacao], axis=1)\n",
    "df_final"
   ]
  },
  {
   "cell_type": "code",
   "execution_count": 19,
   "metadata": {},
   "outputs": [],
   "source": [
    "df_final.populacao = df_final.populacao.str.replace('.','')"
   ]
  },
  {
   "cell_type": "code",
   "execution_count": 20,
   "metadata": {},
   "outputs": [],
   "source": [
    "df_final.populacao = df_final.populacao.astype(float)"
   ]
  },
  {
   "cell_type": "code",
   "execution_count": 21,
   "metadata": {},
   "outputs": [],
   "source": [
    "df_final.to_csv('../0_bases_originais/dados_originais.csv', sep=';', index=False, encoding='UTF-8')"
   ]
  },
  {
   "cell_type": "code",
   "execution_count": 22,
   "metadata": {},
   "outputs": [],
   "source": [
    "df_final.to_json('../0_bases_originais/dados_originais.json')"
   ]
  },
  {
   "cell_type": "code",
   "execution_count": 23,
   "metadata": {},
   "outputs": [
    {
     "name": "stdout",
     "output_type": "stream",
     "text": [
      "2024-05-28 20:46:37,273 INFO sqlalchemy.engine.Engine BEGIN (implicit)\n",
      "2024-05-28 20:46:37,277 INFO sqlalchemy.engine.Engine PRAGMA main.table_info(\"populacaosudeste.db\")\n",
      "2024-05-28 20:46:37,278 INFO sqlalchemy.engine.Engine [raw sql] ()\n",
      "2024-05-28 20:46:37,280 INFO sqlalchemy.engine.Engine PRAGMA temp.table_info(\"populacaosudeste.db\")\n",
      "2024-05-28 20:46:37,282 INFO sqlalchemy.engine.Engine [raw sql] ()\n",
      "2024-05-28 20:46:37,286 INFO sqlalchemy.engine.Engine \n",
      "CREATE TABLE \"populacaosudeste.db\" (\n",
      "\t\"index\" BIGINT, \n",
      "\tposicao TEXT, \n",
      "\tunidade_federativa TEXT, \n",
      "\tmunicipio TEXT, \n",
      "\tpopulacao FLOAT\n",
      ")\n",
      "\n",
      "\n",
      "2024-05-28 20:46:37,288 INFO sqlalchemy.engine.Engine [no key 0.00191s] ()\n",
      "2024-05-28 20:46:37,298 INFO sqlalchemy.engine.Engine CREATE INDEX \"ix_populacaosudeste.db_index\" ON \"populacaosudeste.db\" (\"index\")\n",
      "2024-05-28 20:46:37,301 INFO sqlalchemy.engine.Engine [no key 0.00248s] ()\n",
      "2024-05-28 20:46:37,316 INFO sqlalchemy.engine.Engine INSERT INTO \"populacaosudeste.db\" (\"index\", posicao, unidade_federativa, municipio, populacao) VALUES (?, ?, ?, ?, ?)\n",
      "2024-05-28 20:46:37,317 INFO sqlalchemy.engine.Engine [generated in 0.00273s] [(0, '1', 'São Paulo', 'São Paulo', 12106920.0), (1, '2', 'Rio de Janeiro', 'Rio de Janeiro', 6520266.0), (2, '3', 'Minas Gerais', 'Belo Horizonte', 2523794.0), (3, '4', 'São Paulo', 'Guarulhos', 1349113.0), (4, '5', 'São Paulo', 'Campinas', 1182429.0), (5, '6', 'Rio de Janeiro', 'São Gonçalo', 1049826.0), (6, '7', 'Rio de Janeiro', 'Duque de Caxias', 890997.0), (7, '8', 'São Paulo', 'São Bernardo do Campo', 827437.0)  ... displaying 10 of 99 total bound parameter sets ...  (97, '98', 'São Paulo', 'Jaú', 146338.0), (98, '99', 'Rio de Janeiro', 'Queimados', 145386.0)]\n",
      "2024-05-28 20:46:37,321 INFO sqlalchemy.engine.Engine COMMIT\n",
      "2024-05-28 20:46:37,327 INFO sqlalchemy.engine.Engine BEGIN (implicit)\n",
      "2024-05-28 20:46:37,329 INFO sqlalchemy.engine.Engine PRAGMA main.table_info(\"populacaosudeste.db\")\n",
      "2024-05-28 20:46:37,330 INFO sqlalchemy.engine.Engine [raw sql] ()\n",
      "2024-05-28 20:46:37,334 INFO sqlalchemy.engine.Engine SELECT name FROM sqlite_master WHERE type='table' AND name NOT LIKE 'sqlite~_%' ESCAPE '~' ORDER BY name\n",
      "2024-05-28 20:46:37,335 INFO sqlalchemy.engine.Engine [raw sql] ()\n",
      "2024-05-28 20:46:37,337 INFO sqlalchemy.engine.Engine SELECT name FROM sqlite_master WHERE type='view' AND name NOT LIKE 'sqlite~_%' ESCAPE '~' ORDER BY name\n",
      "2024-05-28 20:46:37,339 INFO sqlalchemy.engine.Engine [raw sql] ()\n",
      "2024-05-28 20:46:37,341 INFO sqlalchemy.engine.Engine PRAGMA main.table_xinfo(\"populacaosudeste.db\")\n",
      "2024-05-28 20:46:37,343 INFO sqlalchemy.engine.Engine [raw sql] ()\n",
      "2024-05-28 20:46:37,345 INFO sqlalchemy.engine.Engine SELECT sql FROM  (SELECT * FROM sqlite_master UNION ALL   SELECT * FROM sqlite_temp_master) WHERE name = ? AND type in ('table', 'view')\n",
      "2024-05-28 20:46:37,346 INFO sqlalchemy.engine.Engine [raw sql] ('populacaosudeste.db',)\n",
      "2024-05-28 20:46:37,349 INFO sqlalchemy.engine.Engine PRAGMA main.foreign_key_list(\"populacaosudeste.db\")\n",
      "2024-05-28 20:46:37,350 INFO sqlalchemy.engine.Engine [raw sql] ()\n",
      "2024-05-28 20:46:37,351 INFO sqlalchemy.engine.Engine PRAGMA temp.foreign_key_list(\"populacaosudeste.db\")\n",
      "2024-05-28 20:46:37,353 INFO sqlalchemy.engine.Engine [raw sql] ()\n",
      "2024-05-28 20:46:37,355 INFO sqlalchemy.engine.Engine SELECT sql FROM  (SELECT * FROM sqlite_master UNION ALL   SELECT * FROM sqlite_temp_master) WHERE name = ? AND type in ('table', 'view')\n",
      "2024-05-28 20:46:37,356 INFO sqlalchemy.engine.Engine [raw sql] ('populacaosudeste.db',)\n",
      "2024-05-28 20:46:37,360 INFO sqlalchemy.engine.Engine PRAGMA main.index_list(\"populacaosudeste.db\")\n",
      "2024-05-28 20:46:37,361 INFO sqlalchemy.engine.Engine [raw sql] ()\n",
      "2024-05-28 20:46:37,363 INFO sqlalchemy.engine.Engine PRAGMA main.index_info(\"ix_populacaosudeste.db_index\")\n",
      "2024-05-28 20:46:37,366 INFO sqlalchemy.engine.Engine [raw sql] ()\n",
      "2024-05-28 20:46:37,368 INFO sqlalchemy.engine.Engine PRAGMA main.index_list(\"populacaosudeste.db\")\n",
      "2024-05-28 20:46:37,370 INFO sqlalchemy.engine.Engine [raw sql] ()\n",
      "2024-05-28 20:46:37,372 INFO sqlalchemy.engine.Engine PRAGMA main.index_info(\"ix_populacaosudeste.db_index\")\n",
      "2024-05-28 20:46:37,373 INFO sqlalchemy.engine.Engine [raw sql] ()\n",
      "2024-05-28 20:46:37,375 INFO sqlalchemy.engine.Engine SELECT sql FROM  (SELECT * FROM sqlite_master UNION ALL   SELECT * FROM sqlite_temp_master) WHERE name = ? AND type in ('table', 'view')\n",
      "2024-05-28 20:46:37,376 INFO sqlalchemy.engine.Engine [raw sql] ('populacaosudeste.db',)\n",
      "2024-05-28 20:46:37,383 INFO sqlalchemy.engine.Engine SELECT \"populacaosudeste.db\".\"index\", \"populacaosudeste.db\".posicao, \"populacaosudeste.db\".unidade_federativa, \"populacaosudeste.db\".municipio, \"populacaosudeste.db\".populacao \n",
      "FROM \"populacaosudeste.db\"\n",
      "2024-05-28 20:46:37,385 INFO sqlalchemy.engine.Engine [generated in 0.00197s] ()\n"
     ]
    },
    {
     "data": {
      "text/html": [
       "<div>\n",
       "<style scoped>\n",
       "    .dataframe tbody tr th:only-of-type {\n",
       "        vertical-align: middle;\n",
       "    }\n",
       "\n",
       "    .dataframe tbody tr th {\n",
       "        vertical-align: top;\n",
       "    }\n",
       "\n",
       "    .dataframe thead th {\n",
       "        text-align: right;\n",
       "    }\n",
       "</style>\n",
       "<table border=\"1\" class=\"dataframe\">\n",
       "  <thead>\n",
       "    <tr style=\"text-align: right;\">\n",
       "      <th></th>\n",
       "      <th>index</th>\n",
       "      <th>posicao</th>\n",
       "      <th>unidade_federativa</th>\n",
       "      <th>municipio</th>\n",
       "      <th>populacao</th>\n",
       "    </tr>\n",
       "  </thead>\n",
       "  <tbody>\n",
       "    <tr>\n",
       "      <th>0</th>\n",
       "      <td>0</td>\n",
       "      <td>1</td>\n",
       "      <td>São Paulo</td>\n",
       "      <td>São Paulo</td>\n",
       "      <td>12106920.0</td>\n",
       "    </tr>\n",
       "    <tr>\n",
       "      <th>1</th>\n",
       "      <td>1</td>\n",
       "      <td>2</td>\n",
       "      <td>Rio de Janeiro</td>\n",
       "      <td>Rio de Janeiro</td>\n",
       "      <td>6520266.0</td>\n",
       "    </tr>\n",
       "    <tr>\n",
       "      <th>2</th>\n",
       "      <td>2</td>\n",
       "      <td>3</td>\n",
       "      <td>Minas Gerais</td>\n",
       "      <td>Belo Horizonte</td>\n",
       "      <td>2523794.0</td>\n",
       "    </tr>\n",
       "    <tr>\n",
       "      <th>3</th>\n",
       "      <td>3</td>\n",
       "      <td>4</td>\n",
       "      <td>São Paulo</td>\n",
       "      <td>Guarulhos</td>\n",
       "      <td>1349113.0</td>\n",
       "    </tr>\n",
       "    <tr>\n",
       "      <th>4</th>\n",
       "      <td>4</td>\n",
       "      <td>5</td>\n",
       "      <td>São Paulo</td>\n",
       "      <td>Campinas</td>\n",
       "      <td>1182429.0</td>\n",
       "    </tr>\n",
       "    <tr>\n",
       "      <th>...</th>\n",
       "      <td>...</td>\n",
       "      <td>...</td>\n",
       "      <td>...</td>\n",
       "      <td>...</td>\n",
       "      <td>...</td>\n",
       "    </tr>\n",
       "    <tr>\n",
       "      <th>94</th>\n",
       "      <td>94</td>\n",
       "      <td>95</td>\n",
       "      <td>São Paulo</td>\n",
       "      <td>Franco da Rocha</td>\n",
       "      <td>149502.0</td>\n",
       "    </tr>\n",
       "    <tr>\n",
       "      <th>95</th>\n",
       "      <td>95</td>\n",
       "      <td>96</td>\n",
       "      <td>São Paulo</td>\n",
       "      <td>Mogi Guaçu</td>\n",
       "      <td>149396.0</td>\n",
       "    </tr>\n",
       "    <tr>\n",
       "      <th>96</th>\n",
       "      <td>96</td>\n",
       "      <td>97</td>\n",
       "      <td>Minas Gerais</td>\n",
       "      <td>Pouso Alegre</td>\n",
       "      <td>147137.0</td>\n",
       "    </tr>\n",
       "    <tr>\n",
       "      <th>97</th>\n",
       "      <td>97</td>\n",
       "      <td>98</td>\n",
       "      <td>São Paulo</td>\n",
       "      <td>Jaú</td>\n",
       "      <td>146338.0</td>\n",
       "    </tr>\n",
       "    <tr>\n",
       "      <th>98</th>\n",
       "      <td>98</td>\n",
       "      <td>99</td>\n",
       "      <td>Rio de Janeiro</td>\n",
       "      <td>Queimados</td>\n",
       "      <td>145386.0</td>\n",
       "    </tr>\n",
       "  </tbody>\n",
       "</table>\n",
       "<p>99 rows × 5 columns</p>\n",
       "</div>"
      ],
      "text/plain": [
       "    index posicao unidade_federativa        municipio   populacao\n",
       "0       0       1          São Paulo        São Paulo  12106920.0\n",
       "1       1       2     Rio de Janeiro   Rio de Janeiro   6520266.0\n",
       "2       2       3       Minas Gerais   Belo Horizonte   2523794.0\n",
       "3       3       4          São Paulo        Guarulhos   1349113.0\n",
       "4       4       5          São Paulo         Campinas   1182429.0\n",
       "..    ...     ...                ...              ...         ...\n",
       "94     94      95          São Paulo  Franco da Rocha    149502.0\n",
       "95     95      96          São Paulo       Mogi Guaçu    149396.0\n",
       "96     96      97       Minas Gerais     Pouso Alegre    147137.0\n",
       "97     97      98          São Paulo              Jaú    146338.0\n",
       "98     98      99     Rio de Janeiro        Queimados    145386.0\n",
       "\n",
       "[99 rows x 5 columns]"
      ]
     },
     "execution_count": 23,
     "metadata": {},
     "output_type": "execute_result"
    }
   ],
   "source": [
    "from sqlalchemy import create_engine\n",
    "engine = create_engine('sqlite:///populacaosudeste.db', echo=True)\n",
    "conn = engine.connect()\n",
    "df_final.to_sql('populacaosudeste.db', con=conn)\n",
    "pd.read_sql('populacaosudeste.db',con=conn )"
   ]
  }
 ],
 "metadata": {
  "kernelspec": {
   "display_name": "Python 3",
   "language": "python",
   "name": "python3"
  },
  "language_info": {
   "codemirror_mode": {
    "name": "ipython",
    "version": 3
   },
   "file_extension": ".py",
   "mimetype": "text/x-python",
   "name": "python",
   "nbconvert_exporter": "python",
   "pygments_lexer": "ipython3",
   "version": "3.12.2"
  }
 },
 "nbformat": 4,
 "nbformat_minor": 2
}
